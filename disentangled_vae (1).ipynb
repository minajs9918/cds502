{
 "cells": [
  {
   "cell_type": "code",
   "execution_count": 1,
   "metadata": {},
   "outputs": [
    {
     "name": "stderr",
     "output_type": "stream",
     "text": [
      "/opt/aiml4it/anaconda/3-5.2.0-generic/lib/python3.6/importlib/_bootstrap.py:219: RuntimeWarning: numpy.dtype size changed, may indicate binary incompatibility. Expected 96, got 88\n",
      "  return f(*args, **kwds)\n",
      "/opt/aiml4it/anaconda/3-5.2.0-generic/lib/python3.6/site-packages/h5py/__init__.py:36: FutureWarning: Conversion of the second argument of issubdtype from `float` to `np.floating` is deprecated. In future, it will be treated as `np.float64 == np.dtype(float).type`.\n",
      "  from ._conv import register_converters as _register_converters\n",
      "/opt/aiml4it/anaconda/3-5.2.0-generic/lib/python3.6/importlib/_bootstrap.py:219: RuntimeWarning: numpy.dtype size changed, may indicate binary incompatibility. Expected 96, got 88\n",
      "  return f(*args, **kwds)\n",
      "/opt/aiml4it/anaconda/3-5.2.0-generic/lib/python3.6/importlib/_bootstrap.py:219: RuntimeWarning: numpy.dtype size changed, may indicate binary incompatibility. Expected 96, got 88\n",
      "  return f(*args, **kwds)\n",
      "Using TensorFlow backend.\n",
      "/opt/aiml4it/anaconda/3-5.2.0-generic/lib/python3.6/importlib/_bootstrap.py:219: RuntimeWarning: numpy.dtype size changed, may indicate binary incompatibility. Expected 96, got 88\n",
      "  return f(*args, **kwds)\n",
      "/opt/aiml4it/anaconda/3-5.2.0-generic/lib/python3.6/importlib/_bootstrap.py:219: RuntimeWarning: numpy.dtype size changed, may indicate binary incompatibility. Expected 96, got 88\n",
      "  return f(*args, **kwds)\n"
     ]
    }
   ],
   "source": [
    "import matplotlib.pyplot as plt\n",
    "from __future__ import absolute_import\n",
    "from __future__ import division\n",
    "from __future__ import print_function\n",
    "\n",
    "import numpy as np\n",
    "import tensorflow as tf\n",
    "import random\n",
    "import os\n",
    "from scipy.misc import imsave\n",
    "from keras.layers import Input, Dense\n",
    "from keras.models import Model\n",
    "import numpy as np\n",
    "from sklearn.model_selection import train_test_split\n",
    "from keras.layers.core import Flatten, Dense, Dropout, Lambda\n",
    "from keras import backend as K\n",
    "from keras import objectives\n",
    "from keras.utils import plot_model\n",
    "from keras.losses import mse, binary_crossentropy\n",
    "import argparse"
   ]
  },
  {
   "cell_type": "markdown",
   "metadata": {},
   "source": [
    "## Constants Definition"
   ]
  },
  {
   "cell_type": "code",
   "execution_count": 86,
   "metadata": {},
   "outputs": [],
   "source": [
    "DIM = 6\n",
    "max_iterations = 6*6\n",
    "batch_size = 10\n",
    "original_dim = 36\n",
    "intermediate_dim = 13\n",
    "latent_dim = 10\n",
    "epochs = 100\n",
    "input_shape = (original_dim, )\n",
    "epsilon_std = 0.3\n",
    "beta = 0.3"
   ]
  },
  {
   "cell_type": "markdown",
   "metadata": {},
   "source": [
    "## Data generation"
   ]
  },
  {
   "cell_type": "code",
   "execution_count": 3,
   "metadata": {},
   "outputs": [],
   "source": [
    "def recur_divide_data(x,i,h,w):\n",
    "    if i <= max_iterations:\n",
    "        if h != 0 or w != 0 :\n",
    "            random_split = random.randint(0,1) # choose between horizontally and vertically\n",
    "            random_pos = random.randint(0,min(h,w)) # it starts from 1 otherwise we will have a lot of grids with just value 0 all over it            \n",
    "            #print('random_split', random_split)\n",
    "            #print('random_pos', random_pos)\n",
    "            if random_split == 0 :# vertically case\n",
    "                #fill the cells\n",
    "                x[:h,random_pos:w] = i\n",
    "                #print('x',x)\n",
    "                return recur_divide_data(x,i+1,h,random_pos)\n",
    "            else:\n",
    "                #fill the cells\n",
    "                x[random_pos:h,:w] = i\n",
    "                #print('x',x)\n",
    "                return recur_divide_data(x,i+1,random_pos,w)\n",
    "        else:\n",
    "            #print('when h =0 and w = 0 i=', i)\n",
    "            #x[h,w] = i\n",
    "            return\n",
    "    else:\n",
    "        return\n",
    "    #if (x == np.zeros(shape=(DIM,DIM))) and (i == 3): # if in 3 attemtps there were the position is always zero\n",
    "     #   x = np.array([[0,0,0,0,0,0],[0,0,0,0,0,0],[0,0,0,0,0,0],[1,1,1,1,1,1],[1,1,1,1,1,1],[1,1,1,1,1,1]])\n",
    "     #   return\n",
    "        "
   ]
  },
  {
   "cell_type": "code",
   "execution_count": 4,
   "metadata": {},
   "outputs": [],
   "source": [
    "def generate_training_set(dim):\n",
    "    x_total = []\n",
    "    x_unique = []\n",
    "    #since we remove the case where it is filled with one value, we have to add it manually\n",
    "    x_total.append(np.zeros(shape=(dim,dim)).flatten())\n",
    "    for i in range(30000):\n",
    "        x = np.zeros(shape=(dim,dim))\n",
    "        recur_divide_data(x,0,dim,dim)\n",
    "        #if ((x != np.zeros(shape=(dim,dim))).all()) and ((x != np.ones(shape=(dim,dim))).all()):\n",
    "        x_total.append(x.flatten())\n",
    "    x_total = np.array(x_total)\n",
    "    #to get only unique values out of the data\n",
    "    unique_rows = np.unique(x_total, axis=0)\n",
    "    return unique_rows"
   ]
  },
  {
   "cell_type": "code",
   "execution_count": 5,
   "metadata": {},
   "outputs": [],
   "source": [
    "x = generate_training_set(6)"
   ]
  },
  {
   "cell_type": "code",
   "execution_count": 6,
   "metadata": {},
   "outputs": [
    {
     "data": {
      "text/plain": [
       "(4524, 36)"
      ]
     },
     "execution_count": 6,
     "metadata": {},
     "output_type": "execute_result"
    }
   ],
   "source": [
    "x.shape"
   ]
  },
  {
   "cell_type": "code",
   "execution_count": 7,
   "metadata": {},
   "outputs": [
    {
     "name": "stdout",
     "output_type": "stream",
     "text": [
      "[4. 2. 2. 2. 1. 0. 3. 2. 2. 2. 1. 0. 3. 2. 2. 2. 1. 0. 3. 2. 2. 2. 1. 0.\n",
      " 3. 2. 2. 2. 1. 0. 3. 2. 2. 2. 1. 0.]\n"
     ]
    },
    {
     "data": {
      "text/plain": [
       "<matplotlib.image.AxesImage at 0x7f0ef130d668>"
      ]
     },
     "execution_count": 7,
     "metadata": {},
     "output_type": "execute_result"
    },
    {
     "data": {
      "image/png": "[encoded data removed]",
      "text/plain": [
       "<Figure size 432x288 with 1 Axes>"
      ]
     },
     "metadata": {},
     "output_type": "display_data"
    }
   ],
   "source": [
    "print(x[500])\n",
    "plt.imshow(x[40].reshape(6,6))"
   ]
  },
  {
   "cell_type": "code",
   "execution_count": 227,
   "metadata": {},
   "outputs": [],
   "source": [
    "def generate_data(x_dim):\n",
    "    x_r = np.ndarray(shape=(x_dim,x_dim))\n",
    "    step_x = random.randint(1,x_dim -2) \n",
    "    step_y = random.randint(1,x_dim - 2)\n",
    "    for i in range(0,x_dim, step_x):\n",
    "        for j in range(0,x_dim, step_y):\n",
    "            #in every step generate a new random integer\n",
    "            rand = random.randint(0,37)\n",
    "            x_r[i:i+step_x,j:j+step_y] = rand \n",
    "    return x_r"
   ]
  },
  {
   "cell_type": "code",
   "execution_count": 3,
   "metadata": {},
   "outputs": [],
   "source": [
    "def generate_randomly_data():\n",
    "    reshaped_vec= []\n",
    "    for i in range(30000):\n",
    "        vec = generate_data(6)\n",
    "        vec_t = np.transpose(vec)\n",
    "        vec = vec.flatten()\n",
    "        vec_t = vec_t.flatten()\n",
    "        reshaped_vec.append(vec)\n",
    "        reshaped_vec.append(vec_t)\n",
    "    return np.array(reshaped_vec)"
   ]
  },
  {
   "cell_type": "code",
   "execution_count": 4,
   "metadata": {},
   "outputs": [],
   "source": [
    "x = generate_randomly_data()\n"
   ]
  },
  {
   "cell_type": "markdown",
   "metadata": {},
   "source": [
    "## Data split"
   ]
  },
  {
   "cell_type": "code",
   "execution_count": 8,
   "metadata": {},
   "outputs": [],
   "source": [
    "## get the training index so it can be divided by the batch size so we won't have errors in training\n",
    "if x.shape[0] % batch_size != 0:\n",
    "    training_index = int(x.shape[0] / batch_size)*batch_size"
   ]
  },
  {
   "cell_type": "code",
   "execution_count": 9,
   "metadata": {},
   "outputs": [],
   "source": [
    "x_train = x[0:training_index-1000,]\n",
    "x_test = x[training_index-1000:training_index,]\n",
    "x_train = x_train.astype('float32') / 36.\n",
    "x_test = x_test.astype('float32') / 36."
   ]
  },
  {
   "cell_type": "markdown",
   "metadata": {},
   "source": [
    "## AutoEncoder Model"
   ]
  },
  {
   "cell_type": "code",
   "execution_count": 87,
   "metadata": {},
   "outputs": [],
   "source": [
    "#Generate the latent representation vectors !!\n",
    "def sampling(args):\n",
    "    z_mean, z_log_sigma = args\n",
    "    epsilon = K.random_normal(shape=(batch_size, latent_dim),\n",
    "                              mean=0., stddev=epsilon_std)\n",
    "    return z_mean + K.exp(z_log_sigma) * epsilon"
   ]
  },
  {
   "cell_type": "code",
   "execution_count": 88,
   "metadata": {},
   "outputs": [],
   "source": [
    "def plot_results(models,\n",
    "\n",
    "                 data,\n",
    "\n",
    "                 batch_size=20,\n",
    "\n",
    "                 model_name=\"vae\"):\n",
    "\n",
    "    encoder, decoder = models\n",
    "\n",
    "    x_test, _ = data\n",
    "\n",
    "    os.makedirs(model_name, exist_ok=True)\n",
    "\n",
    "    filename = os.path.join(model_name, \"vae_mean.png\")\n",
    "\n",
    "    # display a 2D plot of the digit classes in the latent space\n",
    "    z_mean, _, _ = encoder.predict(x_test,batch_size=batch_size)\n",
    "    x_decoded = decoder.predict(z_mean)\n",
    "    \n",
    "    combined_data = np.array([x_test,x_decoded])\n",
    "    #Get the min and max of all your data\n",
    "    _min, _max = np.amin(combined_data), np.amax(combined_data)\n",
    "    \n",
    "    #Try with my own z_sample dimensions = (1, latent_dimension)!!!\n",
    "    z_mean_test = np.array([[0,0,0,0,0,0,0,0,0,0]])\n",
    "    x_decoded_test = decoder.predict(z_mean_test)\n",
    "    print('x_decoded_test ', x_decoded_test)\n",
    "    plt.imshow(x_decoded_test.reshape(DIM, DIM), cmap=plt.cm.hsv, vmin = _min, vmax = _max)\n",
    "    \n",
    "    n = 10  # how many digits we will display\n",
    "    plt.figure(figsize=(40, 8))\n",
    "    for i in range(n):\n",
    "        # display original\n",
    "        ax = plt.subplot(2, n, i + 1)\n",
    "        plt.imshow(x_test[i].reshape(DIM, DIM), cmap=plt.cm.hsv, vmin = _min, vmax = _max)\n",
    "        ax.get_xaxis().set_visible(False)\n",
    "        ax.get_yaxis().set_visible(False)\n",
    "\n",
    "        # display reconstruction\n",
    "        ax = plt.subplot(2, n, i + 1 + n)\n",
    "        plt.imshow(x_decoded[i].reshape(DIM, DIM), cmap=plt.cm.hsv, vmin = _min, vmax = _max)\n",
    "        ax.get_xaxis().set_visible(False)\n",
    "        ax.get_yaxis().set_visible(False)\n",
    "    plt.show()"
   ]
  },
  {
   "cell_type": "code",
   "execution_count": 89,
   "metadata": {},
   "outputs": [],
   "source": [
    "# VAE model = encoder + decoder\n",
    "\n",
    "# build encoder model\n",
    "\n",
    "inputs = Input(shape=input_shape, name='encoder_input')\n",
    "\n",
    "x = Dense(intermediate_dim, activation='relu')(inputs)\n",
    "\n",
    "z_mean = Dense(latent_dim, name='z_mean')(x)\n",
    "\n",
    "z_log_var = Dense(latent_dim, name='z_log_var')(x)"
   ]
  },
  {
   "cell_type": "code",
   "execution_count": 90,
   "metadata": {},
   "outputs": [],
   "source": [
    "# use reparameterization trick to push the sampling out as input\n",
    "\n",
    "# note that \"output_shape\" isn't necessary with the TensorFlow backend\n",
    "\n",
    "z = Lambda(sampling, output_shape=(latent_dim,), name='z')([z_mean, z_log_var])"
   ]
  },
  {
   "cell_type": "code",
   "execution_count": 91,
   "metadata": {},
   "outputs": [
    {
     "name": "stdout",
     "output_type": "stream",
     "text": [
      "__________________________________________________________________________________________________\n",
      "Layer (type)                    Output Shape         Param #     Connected to                     \n",
      "==================================================================================================\n",
      "encoder_input (InputLayer)      (None, 36)           0                                            \n",
      "__________________________________________________________________________________________________\n",
      "dense_22 (Dense)                (None, 13)           481         encoder_input[0][0]              \n",
      "__________________________________________________________________________________________________\n",
      "z_mean (Dense)                  (None, 10)           140         dense_22[0][0]                   \n",
      "__________________________________________________________________________________________________\n",
      "z_log_var (Dense)               (None, 10)           140         dense_22[0][0]                   \n",
      "__________________________________________________________________________________________________\n",
      "z (Lambda)                      (None, 10)           0           z_mean[0][0]                     \n",
      "                                                                 z_log_var[0][0]                  \n",
      "==================================================================================================\n",
      "Total params: 761\n",
      "Trainable params: 761\n",
      "Non-trainable params: 0\n",
      "__________________________________________________________________________________________________\n"
     ]
    }
   ],
   "source": [
    "# instantiate encoder model\n",
    "\n",
    "encoder = Model(inputs, [z_mean, z_log_var, z], name='encoder')\n",
    "\n",
    "encoder.summary()\n",
    "\n",
    "plot_model(encoder, to_file='vae_mlp_encoder.png', show_shapes=True)"
   ]
  },
  {
   "cell_type": "code",
   "execution_count": 92,
   "metadata": {},
   "outputs": [],
   "source": [
    "# build decoder model\n",
    "\n",
    "latent_inputs = Input(shape=(latent_dim,), name='z_sampling')\n",
    "\n",
    "x = Dense(intermediate_dim, activation='relu')(latent_inputs)\n",
    "\n",
    "outputs = Dense(original_dim, activation='sigmoid')(x)"
   ]
  },
  {
   "cell_type": "code",
   "execution_count": 93,
   "metadata": {},
   "outputs": [
    {
     "name": "stdout",
     "output_type": "stream",
     "text": [
      "_________________________________________________________________\n",
      "Layer (type)                 Output Shape              Param #   \n",
      "=================================================================\n",
      "z_sampling (InputLayer)      (None, 10)                0         \n",
      "_________________________________________________________________\n",
      "dense_23 (Dense)             (None, 13)                143       \n",
      "_________________________________________________________________\n",
      "dense_24 (Dense)             (None, 36)                504       \n",
      "=================================================================\n",
      "Total params: 647\n",
      "Trainable params: 647\n",
      "Non-trainable params: 0\n",
      "_________________________________________________________________\n"
     ]
    }
   ],
   "source": [
    "# instantiate decoder model\n",
    "\n",
    "decoder = Model(latent_inputs, outputs, name='decoder')\n",
    "\n",
    "decoder.summary()\n",
    "\n",
    "plot_model(decoder, to_file='vae_mlp_decoder.png', show_shapes=True)"
   ]
  },
  {
   "cell_type": "code",
   "execution_count": 94,
   "metadata": {},
   "outputs": [],
   "source": [
    "# instantiate VAE model\n",
    "\n",
    "outputs = decoder(encoder(inputs)[2])\n",
    "\n",
    "vae = Model(inputs, outputs, name='vae_mlp')"
   ]
  },
  {
   "cell_type": "markdown",
   "metadata": {},
   "source": [
    "## Training"
   ]
  },
  {
   "cell_type": "code",
   "execution_count": 95,
   "metadata": {
    "scrolled": true
   },
   "outputs": [
    {
     "name": "stdout",
     "output_type": "stream",
     "text": [
      "_________________________________________________________________\n",
      "Layer (type)                 Output Shape              Param #   \n",
      "=================================================================\n",
      "encoder_input (InputLayer)   (None, 36)                0         \n",
      "_________________________________________________________________\n",
      "encoder (Model)              [(None, 10), (None, 10),  761       \n",
      "_________________________________________________________________\n",
      "decoder (Model)              (None, 36)                647       \n",
      "=================================================================\n",
      "Total params: 1,408\n",
      "Trainable params: 1,408\n",
      "Non-trainable params: 0\n",
      "_________________________________________________________________\n",
      "Train on 3520 samples, validate on 1000 samples\n",
      "Epoch 1/100\n",
      "3520/3520 [==============================] - 1s 319us/step - loss: 11.6617 - val_loss: 8.1180\n",
      "Epoch 2/100\n",
      "3520/3520 [==============================] - 0s 118us/step - loss: 6.8142 - val_loss: 7.6576\n",
      "Epoch 3/100\n",
      "3520/3520 [==============================] - 0s 119us/step - loss: 6.7173 - val_loss: 7.5167\n",
      "Epoch 4/100\n",
      "3520/3520 [==============================] - 0s 120us/step - loss: 6.6900 - val_loss: 7.4697\n",
      "Epoch 5/100\n",
      "3520/3520 [==============================] - 0s 124us/step - loss: 6.6773 - val_loss: 7.4400\n",
      "Epoch 6/100\n",
      "3520/3520 [==============================] - 0s 119us/step - loss: 6.6676 - val_loss: 7.4210\n",
      "Epoch 7/100\n",
      "3520/3520 [==============================] - 0s 123us/step - loss: 6.6531 - val_loss: 7.3947\n",
      "Epoch 8/100\n",
      "3520/3520 [==============================] - 0s 119us/step - loss: 6.6173 - val_loss: 7.3422\n",
      "Epoch 9/100\n",
      "3520/3520 [==============================] - 0s 121us/step - loss: 6.5691 - val_loss: 7.3078\n",
      "Epoch 10/100\n",
      "3520/3520 [==============================] - 0s 128us/step - loss: 6.5483 - val_loss: 7.2783\n",
      "Epoch 11/100\n",
      "3520/3520 [==============================] - 0s 121us/step - loss: 6.5352 - val_loss: 7.2651\n",
      "Epoch 12/100\n",
      "3520/3520 [==============================] - 0s 122us/step - loss: 6.5234 - val_loss: 7.2461\n",
      "Epoch 13/100\n",
      "3520/3520 [==============================] - 0s 119us/step - loss: 6.5132 - val_loss: 7.2329\n",
      "Epoch 14/100\n",
      "3520/3520 [==============================] - 0s 123us/step - loss: 6.5037 - val_loss: 7.2107\n",
      "Epoch 15/100\n",
      "3520/3520 [==============================] - 0s 118us/step - loss: 6.4927 - val_loss: 7.2032\n",
      "Epoch 16/100\n",
      "3520/3520 [==============================] - 0s 119us/step - loss: 6.4807 - val_loss: 7.1941\n",
      "Epoch 17/100\n",
      "3520/3520 [==============================] - 0s 122us/step - loss: 6.4688 - val_loss: 7.1836\n",
      "Epoch 18/100\n",
      "3520/3520 [==============================] - 0s 119us/step - loss: 6.4585 - val_loss: 7.1810\n",
      "Epoch 19/100\n",
      "3520/3520 [==============================] - 0s 138us/step - loss: 6.4479 - val_loss: 7.1753\n",
      "Epoch 20/100\n",
      "3520/3520 [==============================] - 0s 141us/step - loss: 6.4405 - val_loss: 7.1629\n",
      "Epoch 21/100\n",
      "3520/3520 [==============================] - 1s 147us/step - loss: 6.4356 - val_loss: 7.1752\n",
      "Epoch 22/100\n",
      "3520/3520 [==============================] - 0s 122us/step - loss: 6.4316 - val_loss: 7.1591\n",
      "Epoch 23/100\n",
      "3520/3520 [==============================] - 0s 122us/step - loss: 6.4282 - val_loss: 7.1628\n",
      "Epoch 24/100\n",
      "3520/3520 [==============================] - 0s 121us/step - loss: 6.4248 - val_loss: 7.1529\n",
      "Epoch 25/100\n",
      "3520/3520 [==============================] - 0s 120us/step - loss: 6.4212 - val_loss: 7.1577\n",
      "Epoch 26/100\n",
      "3520/3520 [==============================] - 0s 127us/step - loss: 6.4169 - val_loss: 7.1380\n",
      "Epoch 27/100\n",
      "3520/3520 [==============================] - 0s 126us/step - loss: 6.4126 - val_loss: 7.1398\n",
      "Epoch 28/100\n",
      "3520/3520 [==============================] - 0s 126us/step - loss: 6.4093 - val_loss: 7.1342\n",
      "Epoch 29/100\n",
      "3520/3520 [==============================] - 0s 120us/step - loss: 6.4062 - val_loss: 7.1284\n",
      "Epoch 30/100\n",
      "3520/3520 [==============================] - 0s 124us/step - loss: 6.4029 - val_loss: 7.1249\n",
      "Epoch 31/100\n",
      "3520/3520 [==============================] - 0s 120us/step - loss: 6.4000 - val_loss: 7.1202\n",
      "Epoch 32/100\n",
      "3520/3520 [==============================] - 0s 119us/step - loss: 6.3966 - val_loss: 7.1121\n",
      "Epoch 33/100\n",
      "3520/3520 [==============================] - 0s 129us/step - loss: 6.3934 - val_loss: 7.1105\n",
      "Epoch 34/100\n",
      "3520/3520 [==============================] - 0s 120us/step - loss: 6.3904 - val_loss: 7.1121\n",
      "Epoch 35/100\n",
      "3520/3520 [==============================] - 0s 122us/step - loss: 6.3878 - val_loss: 7.1007\n",
      "Epoch 36/100\n",
      "3520/3520 [==============================] - 0s 120us/step - loss: 6.3851 - val_loss: 7.1074\n",
      "Epoch 37/100\n",
      "3520/3520 [==============================] - 0s 121us/step - loss: 6.3828 - val_loss: 7.1023\n",
      "Epoch 38/100\n",
      "3520/3520 [==============================] - 0s 118us/step - loss: 6.3810 - val_loss: 7.1046\n",
      "Epoch 39/100\n",
      "3520/3520 [==============================] - 0s 119us/step - loss: 6.3795 - val_loss: 7.0893\n",
      "Epoch 40/100\n",
      "3520/3520 [==============================] - 0s 121us/step - loss: 6.3778 - val_loss: 7.0915\n",
      "Epoch 41/100\n",
      "3520/3520 [==============================] - 0s 121us/step - loss: 6.3763 - val_loss: 7.0896\n",
      "Epoch 42/100\n",
      "3520/3520 [==============================] - 0s 123us/step - loss: 6.3751 - val_loss: 7.0917\n",
      "Epoch 43/100\n",
      "3520/3520 [==============================] - 0s 120us/step - loss: 6.3737 - val_loss: 7.0874\n",
      "Epoch 44/100\n",
      "3520/3520 [==============================] - 0s 121us/step - loss: 6.3724 - val_loss: 7.0901\n",
      "Epoch 45/100\n",
      "3520/3520 [==============================] - 0s 137us/step - loss: 6.3712 - val_loss: 7.0807\n",
      "Epoch 46/100\n",
      "3520/3520 [==============================] - 1s 152us/step - loss: 6.3701 - val_loss: 7.0817\n",
      "Epoch 47/100\n",
      "3520/3520 [==============================] - 1s 150us/step - loss: 6.3693 - val_loss: 7.0795\n",
      "Epoch 48/100\n",
      "3520/3520 [==============================] - 1s 156us/step - loss: 6.3683 - val_loss: 7.0790\n",
      "Epoch 49/100\n",
      "3520/3520 [==============================] - 0s 120us/step - loss: 6.3674 - val_loss: 7.0715\n",
      "Epoch 50/100\n",
      "3520/3520 [==============================] - 0s 123us/step - loss: 6.3668 - val_loss: 7.0754\n",
      "Epoch 51/100\n",
      "3520/3520 [==============================] - 0s 121us/step - loss: 6.3657 - val_loss: 7.0737\n",
      "Epoch 52/100\n",
      "3520/3520 [==============================] - 0s 121us/step - loss: 6.3653 - val_loss: 7.0735\n",
      "Epoch 53/100\n",
      "3520/3520 [==============================] - 0s 122us/step - loss: 6.3644 - val_loss: 7.0749\n",
      "Epoch 54/100\n",
      "3520/3520 [==============================] - 0s 122us/step - loss: 6.3638 - val_loss: 7.0710\n",
      "Epoch 55/100\n",
      "3520/3520 [==============================] - 0s 125us/step - loss: 6.3632 - val_loss: 7.0740\n",
      "Epoch 56/100\n",
      "3520/3520 [==============================] - 0s 122us/step - loss: 6.3627 - val_loss: 7.0748\n",
      "Epoch 57/100\n",
      "3520/3520 [==============================] - 0s 121us/step - loss: 6.3619 - val_loss: 7.0748\n",
      "Epoch 58/100\n",
      "3520/3520 [==============================] - 0s 120us/step - loss: 6.3614 - val_loss: 7.0758\n",
      "Epoch 59/100\n",
      "3520/3520 [==============================] - 0s 120us/step - loss: 6.3606 - val_loss: 7.0720\n",
      "Epoch 60/100\n",
      "3520/3520 [==============================] - 0s 123us/step - loss: 6.3601 - val_loss: 7.0724\n",
      "Epoch 61/100\n",
      "3520/3520 [==============================] - 0s 119us/step - loss: 6.3593 - val_loss: 7.0654\n",
      "Epoch 62/100\n",
      "3520/3520 [==============================] - 0s 125us/step - loss: 6.3586 - val_loss: 7.0691\n",
      "Epoch 63/100\n",
      "3520/3520 [==============================] - 0s 120us/step - loss: 6.3579 - val_loss: 7.0654\n",
      "Epoch 64/100\n",
      "3520/3520 [==============================] - 0s 118us/step - loss: 6.3574 - val_loss: 7.0639\n",
      "Epoch 65/100\n",
      "3520/3520 [==============================] - 0s 121us/step - loss: 6.3567 - val_loss: 7.0668\n",
      "Epoch 66/100\n",
      "3520/3520 [==============================] - 0s 118us/step - loss: 6.3557 - val_loss: 7.0636\n",
      "Epoch 67/100\n",
      "3520/3520 [==============================] - 0s 120us/step - loss: 6.3551 - val_loss: 7.0654\n",
      "Epoch 68/100\n",
      "3520/3520 [==============================] - 0s 120us/step - loss: 6.3546 - val_loss: 7.0577\n",
      "Epoch 69/100\n",
      "3520/3520 [==============================] - 0s 123us/step - loss: 6.3540 - val_loss: 7.0637\n",
      "Epoch 70/100\n",
      "3520/3520 [==============================] - 0s 118us/step - loss: 6.3534 - val_loss: 7.0619\n",
      "Epoch 71/100\n"
     ]
    },
    {
     "name": "stdout",
     "output_type": "stream",
     "text": [
      "3520/3520 [==============================] - 0s 119us/step - loss: 6.3528 - val_loss: 7.0552\n",
      "Epoch 72/100\n",
      "3520/3520 [==============================] - 0s 138us/step - loss: 6.3525 - val_loss: 7.0586\n",
      "Epoch 73/100\n",
      "3520/3520 [==============================] - 1s 143us/step - loss: 6.3522 - val_loss: 7.0504\n",
      "Epoch 74/100\n",
      "3520/3520 [==============================] - 1s 146us/step - loss: 6.3517 - val_loss: 7.0543\n",
      "Epoch 75/100\n",
      "3520/3520 [==============================] - 0s 128us/step - loss: 6.3514 - val_loss: 7.0564\n",
      "Epoch 76/100\n",
      "3520/3520 [==============================] - 0s 125us/step - loss: 6.3510 - val_loss: 7.0522\n",
      "Epoch 77/100\n",
      "3520/3520 [==============================] - 0s 122us/step - loss: 6.3508 - val_loss: 7.0532\n",
      "Epoch 78/100\n",
      "3520/3520 [==============================] - 0s 124us/step - loss: 6.3504 - val_loss: 7.0511\n",
      "Epoch 79/100\n",
      "3520/3520 [==============================] - 0s 126us/step - loss: 6.3501 - val_loss: 7.0517\n",
      "Epoch 80/100\n",
      "3520/3520 [==============================] - 0s 123us/step - loss: 6.3498 - val_loss: 7.0508\n",
      "Epoch 81/100\n",
      "3520/3520 [==============================] - 0s 121us/step - loss: 6.3498 - val_loss: 7.0530\n",
      "Epoch 82/100\n",
      "3520/3520 [==============================] - 0s 123us/step - loss: 6.3492 - val_loss: 7.0515\n",
      "Epoch 83/100\n",
      "3520/3520 [==============================] - 0s 123us/step - loss: 6.3491 - val_loss: 7.0487\n",
      "Epoch 84/100\n",
      "3520/3520 [==============================] - 0s 118us/step - loss: 6.3489 - val_loss: 7.0439\n",
      "Epoch 85/100\n",
      "3520/3520 [==============================] - 0s 119us/step - loss: 6.3487 - val_loss: 7.0499\n",
      "Epoch 86/100\n",
      "3520/3520 [==============================] - 0s 117us/step - loss: 6.3485 - val_loss: 7.0507\n",
      "Epoch 87/100\n",
      "3520/3520 [==============================] - 0s 119us/step - loss: 6.3483 - val_loss: 7.0499\n",
      "Epoch 88/100\n",
      "3520/3520 [==============================] - 0s 122us/step - loss: 6.3479 - val_loss: 7.0476\n",
      "Epoch 89/100\n",
      "3520/3520 [==============================] - 0s 120us/step - loss: 6.3477 - val_loss: 7.0491\n",
      "Epoch 90/100\n",
      "3520/3520 [==============================] - 0s 120us/step - loss: 6.3476 - val_loss: 7.0431\n",
      "Epoch 91/100\n",
      "3520/3520 [==============================] - 0s 119us/step - loss: 6.3472 - val_loss: 7.0404\n",
      "Epoch 92/100\n",
      "3520/3520 [==============================] - 0s 120us/step - loss: 6.3470 - val_loss: 7.0436\n",
      "Epoch 93/100\n",
      "3520/3520 [==============================] - 0s 117us/step - loss: 6.3468 - val_loss: 7.0455\n",
      "Epoch 94/100\n",
      "3520/3520 [==============================] - 0s 117us/step - loss: 6.3463 - val_loss: 7.0442\n",
      "Epoch 95/100\n",
      "3520/3520 [==============================] - 0s 122us/step - loss: 6.3460 - val_loss: 7.0437\n",
      "Epoch 96/100\n",
      "3520/3520 [==============================] - 0s 120us/step - loss: 6.3459 - val_loss: 7.0429\n",
      "Epoch 97/100\n",
      "3520/3520 [==============================] - 0s 122us/step - loss: 6.3456 - val_loss: 7.0427\n",
      "Epoch 98/100\n",
      "3520/3520 [==============================] - 0s 132us/step - loss: 6.3455 - val_loss: 7.0438\n",
      "Epoch 99/100\n",
      "3520/3520 [==============================] - 1s 151us/step - loss: 6.3452 - val_loss: 7.0423\n",
      "Epoch 100/100\n",
      "3520/3520 [==============================] - 1s 147us/step - loss: 6.3450 - val_loss: 7.0404\n"
     ]
    }
   ],
   "source": [
    "\n",
    "models = (encoder, decoder)\n",
    "\n",
    "data = (x_test, _)\n",
    "\n",
    "reconstruction_loss = binary_crossentropy(inputs,outputs)\n",
    "\n",
    "reconstruction_loss *= original_dim\n",
    "\n",
    "kl_loss = beta*(1 + z_log_var - K.square(z_mean) - K.exp(z_log_var))\n",
    "\n",
    "kl_loss = K.sum(kl_loss, axis=-1)\n",
    "\n",
    "kl_loss *= -0.5\n",
    "\n",
    "vae_loss = K.mean(reconstruction_loss + kl_loss)\n",
    "\n",
    "vae.add_loss(vae_loss)\n",
    "\n",
    "vae.compile(optimizer='adam')\n",
    "\n",
    "vae.summary()\n",
    "\n",
    "plot_model(vae,\n",
    "\n",
    "           to_file='vae_mlp.png',\n",
    "\n",
    "           show_shapes=True)\n",
    "\n",
    "vae.fit(x_train,\n",
    "\n",
    "        epochs=epochs,\n",
    "\n",
    "        batch_size=batch_size,\n",
    "\n",
    "        validation_data=(x_test, None))\n",
    "\n",
    "vae.save_weights('vae_mlp_mnist.h5')"
   ]
  },
  {
   "cell_type": "markdown",
   "metadata": {},
   "source": [
    "## Prediction"
   ]
  },
  {
   "cell_type": "code",
   "execution_count": 96,
   "metadata": {},
   "outputs": [
    {
     "name": "stdout",
     "output_type": "stream",
     "text": [
      "x_decoded_test  [[0.21949686 0.39069065 0.35306314 0.3586908  0.17460985 0.05299781\n",
      "  0.39320374 0.4730194  0.43587437 0.47516754 0.29491848 0.06851693\n",
      "  0.3079473  0.43171483 0.4790571  0.54296625 0.3847209  0.10007013\n",
      "  0.18027598 0.29249623 0.31607476 0.37266248 0.26379785 0.0660468\n",
      "  0.21857335 0.3524698  0.389866   0.46254516 0.28054103 0.08136403\n",
      "  0.16265479 0.25632587 0.27648884 0.45318702 0.30538774 0.08995534]]\n"
     ]
    },
    {
     "data": {
      "image/png": "[encoded data removed]",
      "text/plain": [
       "<Figure size 432x288 with 1 Axes>"
      ]
     },
     "metadata": {},
     "output_type": "display_data"
    },
    {
     "data": {
      "image/png": "[encoded data removed]",
      "text/plain": [
       "<Figure size 2880x576 with 20 Axes>"
      ]
     },
     "metadata": {},
     "output_type": "display_data"
    }
   ],
   "source": [
    "plot_results(models,\n",
    "\n",
    "             data,\n",
    "\n",
    "             batch_size=batch_size,\n",
    "             model_name=\"vae_mlp\")"
   ]
  },
  {
   "cell_type": "code",
   "execution_count": null,
   "metadata": {},
   "outputs": [],
   "source": []
  }
 ],
 "metadata": {
  "kernelspec": {
   "display_name": "Python 3",
   "language": "python",
   "name": "python3"
  },
  "language_info": {
   "codemirror_mode": {
    "name": "ipython",
    "version": 3
   },
   "file_extension": ".py",
   "mimetype": "text/x-python",
   "name": "python",
   "nbconvert_exporter": "python",
   "pygments_lexer": "ipython3",
   "version": "3.6.5"
  }
 },
 "nbformat": 4,
 "nbformat_minor": 2
}
